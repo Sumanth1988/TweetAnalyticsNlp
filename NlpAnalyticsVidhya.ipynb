{
 "cells": [
  {
   "cell_type": "code",
   "execution_count": 1,
   "metadata": {
    "collapsed": true
   },
   "outputs": [],
   "source": [
    "import nltk\n",
    "import pandas as pd\n",
    "import string\n",
    "from nltk.corpus import stopwords\n",
    "from nltk.stem import PorterStemmer\n",
    "from nltk.tokenize import sent_tokenize, word_tokenize\n",
    "from sklearn.feature_extraction.text import CountVectorizer\n",
    "from sklearn.feature_extraction.text import TfidfTransformer\n",
    "from sklearn.naive_bayes import MultinomialNB\n",
    "from sklearn.metrics import classification_report\n",
    "from sklearn.pipeline import Pipeline"
   ]
  },
  {
   "cell_type": "code",
   "execution_count": 6,
   "metadata": {},
   "outputs": [
    {
     "name": "stderr",
     "output_type": "stream",
     "text": [
      "[nltk_data] Downloading package stopwords to\n",
      "[nltk_data]     /Users/sumanth/nltk_data...\n",
      "[nltk_data]   Unzipping corpora/stopwords.zip.\n",
      "/Library/Frameworks/Python.framework/Versions/3.6/lib/python3.6/site-packages/ipykernel_launcher.py:13: SettingWithCopyWarning: \n",
      "A value is trying to be set on a copy of a slice from a DataFrame\n",
      "\n",
      "See the caveats in the documentation: http://pandas.pydata.org/pandas-docs/stable/indexing.html#indexing-view-versus-copy\n",
      "  del sys.path[0]\n",
      "/Library/Frameworks/Python.framework/Versions/3.6/lib/python3.6/site-packages/ipykernel_launcher.py:16: SettingWithCopyWarning: \n",
      "A value is trying to be set on a copy of a slice from a DataFrame\n",
      "\n",
      "See the caveats in the documentation: http://pandas.pydata.org/pandas-docs/stable/indexing.html#indexing-view-versus-copy\n",
      "  app.launch_new_instance()\n"
     ]
    },
    {
     "name": "stdout",
     "output_type": "stream",
     "text": [
      "[1 1 1 ... 1 0 0]\n"
     ]
    },
    {
     "name": "stderr",
     "output_type": "stream",
     "text": [
      "/Library/Frameworks/Python.framework/Versions/3.6/lib/python3.6/site-packages/sklearn/feature_extraction/text.py:1059: FutureWarning: Conversion of the second argument of issubdtype from `float` to `np.floating` is deprecated. In future, it will be treated as `np.float64 == np.dtype(float).type`.\n",
      "  if hasattr(X, 'dtype') and np.issubdtype(X.dtype, np.float):\n"
     ]
    }
   ],
   "source": [
    "trainSet=pd.read_csv('trainNlp.csv')\n",
    "testSet=pd.read_csv('testNlp.csv')\n",
    "nltk.download('stopwords')\n",
    "\n",
    "trainModify=trainSet\n",
    "testModify=testSet\n",
    "\n",
    "trainModify=replaceUrlandHash(trainModify)\n",
    "testModify=replaceUrlandHash(testModify)\n",
    "\n",
    "trainModify=removePunctuationAndStopWords(trainModify)\n",
    "testModify=removePunctuationAndStopWords(testModify)\n",
    "\n",
    "trainModify=sentenceStemmer(trainModify)\n",
    "testModify=sentenceStemmer(testModify)\n",
    "\n",
    "\n",
    "pipeline = Pipeline([\n",
    "    ('bow', CountVectorizer()),  # strings to token integer counts\n",
    "    ('tfidf', TfidfTransformer()),  # integer counts to weighted TF-IDF scores\n",
    "    ('classifier', MultinomialNB()),  # train on TF-IDF vectors w/ Naive Bayes classifier\n",
    "])\n",
    "\n",
    "pipeline.fit(trainModify['tweet'],trainModify['label'])\n",
    "\n",
    "predictions = pipeline.predict(testModify['tweet'])\n",
    "\n",
    "print(predictions)\n",
    "\n",
    "testModify['label']=predictions\n",
    "\n",
    "testModify[['id'],['label']].to_csv('SubmissionsNlp.csv',index=False)\n"
   ]
  },
  {
   "cell_type": "code",
   "execution_count": 8,
   "metadata": {},
   "outputs": [],
   "source": [
    "\n",
    "\n",
    "\n",
    "def replaceUrlandHash(requiredDataset):\n",
    "    i=0\n",
    "    for row in requiredDataset['tweet']:\n",
    "        row=row.replace('#','')\n",
    "        index=len(row)\n",
    "        #print(row)\n",
    "        if(row.find('http://')!=-1):\n",
    "            index=row.find('http://')\n",
    "        elif(row.find('https://')!=-1):\n",
    "            index=row.find('https://')\n",
    "        row=row[:index]\n",
    "        requiredDataset['tweet'][i]=row\n",
    "        i=i+1\n",
    "    \n",
    "    return  requiredDataset   \n",
    "       "
   ]
  },
  {
   "cell_type": "code",
   "execution_count": 4,
   "metadata": {},
   "outputs": [],
   "source": [
    "# Check characters to see if they are in punctuation\n",
    "\n",
    "def removePunctuationAndStopWords(requiredDataset):\n",
    "    i=0\n",
    "    for row in requiredDataset['tweet']: \n",
    "        nopunc = [char for char in row if char not in string.punctuation]\n",
    "\n",
    "        # Join the characters again to form the string.\n",
    "        nopunc = ''.join(nopunc)\n",
    "\n",
    "        # Now just remove any stopwords\n",
    "        nonStopWords=[word for word in nopunc.split() if word.lower() not in stopwords.words('english')] \n",
    "\n",
    "        nonStopWords=' '.join(nonStopWords)\n",
    "\n",
    "        requiredDataset['tweet'][i]=nonStopWords\n",
    "\n",
    "        i=i+1\n",
    "        \n",
    "    return requiredDataset        "
   ]
  },
  {
   "cell_type": "code",
   "execution_count": 5,
   "metadata": {},
   "outputs": [],
   "source": [
    "\n",
    "def sentenceStemmer(requiredDataset):\n",
    "\n",
    "    porter = PorterStemmer()\n",
    "    nopunc=[]\n",
    "    stemWords=[]\n",
    "    i=0\n",
    "    for row in requiredDataset['tweet']:\n",
    "        token_words=word_tokenize(row)\n",
    "        stem_sentence=[]\n",
    "        for word in token_words:\n",
    "            stem_sentence.append(porter.stem(word))\n",
    "            stem_sentence.append(\" \")\n",
    "        stem_sentence=\"\".join(stem_sentence) \n",
    "\n",
    "        requiredDataset['tweet'][i]=stem_sentence\n",
    "\n",
    "        i=i+1 \n",
    "        \n",
    "    return requiredDataset   "
   ]
  },
  {
   "cell_type": "code",
   "execution_count": 22,
   "metadata": {},
   "outputs": [],
   "source": []
  },
  {
   "cell_type": "code",
   "execution_count": 23,
   "metadata": {
    "collapsed": true
   },
   "outputs": [],
   "source": []
  },
  {
   "cell_type": "code",
   "execution_count": 24,
   "metadata": {
    "collapsed": true
   },
   "outputs": [],
   "source": []
  },
  {
   "cell_type": "code",
   "execution_count": null,
   "metadata": {},
   "outputs": [],
   "source": []
  },
  {
   "cell_type": "code",
   "execution_count": 26,
   "metadata": {
    "collapsed": true
   },
   "outputs": [],
   "source": []
  },
  {
   "cell_type": "code",
   "execution_count": null,
   "metadata": {},
   "outputs": [],
   "source": []
  },
  {
   "cell_type": "code",
   "execution_count": 28,
   "metadata": {},
   "outputs": [
    {
     "name": "stdout",
     "output_type": "stream",
     "text": [
      "[0 0 0 ... 0 0 0]\n"
     ]
    }
   ],
   "source": []
  },
  {
   "cell_type": "code",
   "execution_count": 29,
   "metadata": {},
   "outputs": [
    {
     "name": "stdout",
     "output_type": "stream",
     "text": [
      "             precision    recall  f1-score   support\n",
      "\n",
      "          0       0.90      0.98      0.94      5894\n",
      "          1       0.94      0.69      0.79      2026\n",
      "\n",
      "avg / total       0.91      0.91      0.90      7920\n",
      "\n"
     ]
    }
   ],
   "source": [
    "print (classification_report(trainSet['label'], all_predictions))"
   ]
  },
  {
   "cell_type": "code",
   "execution_count": null,
   "metadata": {
    "collapsed": true
   },
   "outputs": [],
   "source": []
  }
 ],
 "metadata": {
  "kernelspec": {
   "display_name": "Python 3",
   "language": "python",
   "name": "python3"
  },
  "language_info": {
   "codemirror_mode": {
    "name": "ipython",
    "version": 3
   },
   "file_extension": ".py",
   "mimetype": "text/x-python",
   "name": "python",
   "nbconvert_exporter": "python",
   "pygments_lexer": "ipython3",
   "version": "3.6.1"
  }
 },
 "nbformat": 4,
 "nbformat_minor": 2
}
